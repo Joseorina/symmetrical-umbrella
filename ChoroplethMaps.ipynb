{
 "cells": [
  {
   "cell_type": "code",
   "execution_count": 1,
   "metadata": {},
   "outputs": [],
   "source": [
    "import plotly.plotly as py\n",
    "import plotly.graph_objs as go\n",
    "from plotly.offline import download_plotlyjs,  init_notebook_mode,plot,iplot"
   ]
  },
  {
   "cell_type": "code",
   "execution_count": 2,
   "metadata": {},
   "outputs": [
    {
     "data": {
      "text/html": [
       "        <script type=\"text/javascript\">\n",
       "        window.PlotlyConfig = {MathJaxConfig: 'local'};\n",
       "        if (window.MathJax) {MathJax.Hub.Config({SVG: {font: \"STIX-Web\"}});}\n",
       "        if (typeof require !== 'undefined') {\n",
       "        require.undef(\"plotly\");\n",
       "        requirejs.config({\n",
       "            paths: {\n",
       "                'plotly': ['https://cdn.plot.ly/plotly-latest.min']\n",
       "            }\n",
       "        });\n",
       "        require(['plotly'], function(Plotly) {\n",
       "            window._Plotly = Plotly;\n",
       "        });\n",
       "        }\n",
       "        </script>\n",
       "        "
      ]
     },
     "metadata": {},
     "output_type": "display_data"
    }
   ],
   "source": [
    "init_notebook_mode(connected=True)"
   ]
  },
  {
   "cell_type": "code",
   "execution_count": 3,
   "metadata": {},
   "outputs": [],
   "source": [
    "import pandas as pd"
   ]
  },
  {
   "cell_type": "code",
   "execution_count": 5,
   "metadata": {},
   "outputs": [],
   "source": [
    "data = dict(type='choropleth',\n",
    "           locations=['AZ', 'CA', 'NY'],\n",
    "           locationmode = 'USA-states',\n",
    "           colorscale='Portland',\n",
    "           z=[1.0,2.0,3.0],\n",
    "           colorbar={'title':'Colora bar title'})"
   ]
  },
  {
   "cell_type": "code",
   "execution_count": 7,
   "metadata": {},
   "outputs": [
    {
     "data": {
      "text/plain": [
       "{'type': 'choropleth',\n",
       " 'locations': ['AZ', 'CA', 'NY'],\n",
       " 'locationmode': 'USA-states',\n",
       " 'colorscale': 'Portland',\n",
       " 'z': [1.0, 2.0, 3.0],\n",
       " 'colorbar': {'title': 'Colora bar title'}}"
      ]
     },
     "execution_count": 7,
     "metadata": {},
     "output_type": "execute_result"
    }
   ],
   "source": [
    "data"
   ]
  },
  {
   "cell_type": "code",
   "execution_count": 8,
   "metadata": {},
   "outputs": [],
   "source": [
    "layout = dict(geo= {'scope':'usa'})"
   ]
  },
  {
   "cell_type": "code",
   "execution_count": 9,
   "metadata": {},
   "outputs": [],
   "source": [
    "choromap = go.Figure(data = [data],layout=layout)"
   ]
  },
  {
   "cell_type": "code",
   "execution_count": 10,
   "metadata": {},
   "outputs": [
    {
     "data": {
      "application/vnd.plotly.v1+json": {
       "config": {
        "linkText": "Export to plot.ly",
        "plotlyServerURL": "https://plot.ly",
        "showLink": false
       },
       "data": [
        {
         "colorbar": {
          "title": {
           "text": "Colora bar title"
          }
         },
         "colorscale": "Portland",
         "locationmode": "USA-states",
         "locations": [
          "AZ",
          "CA",
          "NY"
         ],
         "type": "choropleth",
         "uid": "b2a8282e-387e-4e35-b2b6-db046580a88e",
         "z": [
          1,
          2,
          3
         ]
        }
       ],
       "layout": {
        "geo": {
         "scope": "usa"
        }
       }
      },
      "text/html": [
       "<div>\n",
       "        \n",
       "        \n",
       "            <div id=\"68566abd-099f-4bb5-8fea-d661462c897d\" class=\"plotly-graph-div\" style=\"height:525px; width:100%;\"></div>\n",
       "            <script type=\"text/javascript\">\n",
       "                require([\"plotly\"], function(Plotly) {\n",
       "                    window.PLOTLYENV=window.PLOTLYENV || {};\n",
       "                    window.PLOTLYENV.BASE_URL='https://plot.ly';\n",
       "                    \n",
       "                if (document.getElementById(\"68566abd-099f-4bb5-8fea-d661462c897d\")) {\n",
       "                    Plotly.newPlot(\n",
       "                        '68566abd-099f-4bb5-8fea-d661462c897d',\n",
       "                        [{\"colorbar\": {\"title\": {\"text\": \"Colora bar title\"}}, \"colorscale\": \"Portland\", \"locationmode\": \"USA-states\", \"locations\": [\"AZ\", \"CA\", \"NY\"], \"type\": \"choropleth\", \"uid\": \"b2a8282e-387e-4e35-b2b6-db046580a88e\", \"z\": [1.0, 2.0, 3.0]}],\n",
       "                        {\"geo\": {\"scope\": \"usa\"}},\n",
       "                        {\"showLink\": false, \"linkText\": \"Export to plot.ly\", \"plotlyServerURL\": \"https://plot.ly\", \"responsive\": true}\n",
       "                    ).then(function(){\n",
       "                            \n",
       "var gd = document.getElementById('68566abd-099f-4bb5-8fea-d661462c897d');\n",
       "var x = new MutationObserver(function (mutations, observer) {{\n",
       "        var display = window.getComputedStyle(gd).display;\n",
       "        if (!display || display === 'none') {{\n",
       "            console.log([gd, 'removed!']);\n",
       "            Plotly.purge(gd);\n",
       "            observer.disconnect();\n",
       "        }}\n",
       "}});\n",
       "\n",
       "// Listen for the removal of the full notebook cells\n",
       "var notebookContainer = gd.closest('#notebook-container');\n",
       "if (notebookContainer) {{\n",
       "    x.observe(notebookContainer, {childList: true});\n",
       "}}\n",
       "\n",
       "// Listen for the clearing of the current output cell\n",
       "var outputEl = gd.closest('.output');\n",
       "if (outputEl) {{\n",
       "    x.observe(outputEl, {childList: true});\n",
       "}}\n",
       "\n",
       "                        })\n",
       "                };\n",
       "                });\n",
       "            </script>\n",
       "        </div>"
      ]
     },
     "metadata": {},
     "output_type": "display_data"
    }
   ],
   "source": [
    "iplot(choromap)"
   ]
  },
  {
   "cell_type": "code",
   "execution_count": 11,
   "metadata": {},
   "outputs": [],
   "source": [
    "df = pd.read_csv('2011_US_AGRI_Exports')"
   ]
  },
  {
   "cell_type": "code",
   "execution_count": 12,
   "metadata": {},
   "outputs": [
    {
     "data": {
      "text/html": [
       "<div>\n",
       "<style scoped>\n",
       "    .dataframe tbody tr th:only-of-type {\n",
       "        vertical-align: middle;\n",
       "    }\n",
       "\n",
       "    .dataframe tbody tr th {\n",
       "        vertical-align: top;\n",
       "    }\n",
       "\n",
       "    .dataframe thead th {\n",
       "        text-align: right;\n",
       "    }\n",
       "</style>\n",
       "<table border=\"1\" class=\"dataframe\">\n",
       "  <thead>\n",
       "    <tr style=\"text-align: right;\">\n",
       "      <th></th>\n",
       "      <th>code</th>\n",
       "      <th>state</th>\n",
       "      <th>category</th>\n",
       "      <th>total exports</th>\n",
       "      <th>beef</th>\n",
       "      <th>pork</th>\n",
       "      <th>poultry</th>\n",
       "      <th>dairy</th>\n",
       "      <th>fruits fresh</th>\n",
       "      <th>fruits proc</th>\n",
       "      <th>total fruits</th>\n",
       "      <th>veggies fresh</th>\n",
       "      <th>veggies proc</th>\n",
       "      <th>total veggies</th>\n",
       "      <th>corn</th>\n",
       "      <th>wheat</th>\n",
       "      <th>cotton</th>\n",
       "      <th>text</th>\n",
       "    </tr>\n",
       "  </thead>\n",
       "  <tbody>\n",
       "    <tr>\n",
       "      <th>0</th>\n",
       "      <td>AL</td>\n",
       "      <td>Alabama</td>\n",
       "      <td>state</td>\n",
       "      <td>1390.63</td>\n",
       "      <td>34.4</td>\n",
       "      <td>10.6</td>\n",
       "      <td>481.0</td>\n",
       "      <td>4.06</td>\n",
       "      <td>8.0</td>\n",
       "      <td>17.1</td>\n",
       "      <td>25.11</td>\n",
       "      <td>5.5</td>\n",
       "      <td>8.9</td>\n",
       "      <td>14.33</td>\n",
       "      <td>34.9</td>\n",
       "      <td>70.0</td>\n",
       "      <td>317.61</td>\n",
       "      <td>Alabama&lt;br&gt;Beef 34.4 Dairy 4.06&lt;br&gt;Fruits 25.1...</td>\n",
       "    </tr>\n",
       "    <tr>\n",
       "      <th>1</th>\n",
       "      <td>AK</td>\n",
       "      <td>Alaska</td>\n",
       "      <td>state</td>\n",
       "      <td>13.31</td>\n",
       "      <td>0.2</td>\n",
       "      <td>0.1</td>\n",
       "      <td>0.0</td>\n",
       "      <td>0.19</td>\n",
       "      <td>0.0</td>\n",
       "      <td>0.0</td>\n",
       "      <td>0.00</td>\n",
       "      <td>0.6</td>\n",
       "      <td>1.0</td>\n",
       "      <td>1.56</td>\n",
       "      <td>0.0</td>\n",
       "      <td>0.0</td>\n",
       "      <td>0.00</td>\n",
       "      <td>Alaska&lt;br&gt;Beef 0.2 Dairy 0.19&lt;br&gt;Fruits 0.0 Ve...</td>\n",
       "    </tr>\n",
       "    <tr>\n",
       "      <th>2</th>\n",
       "      <td>AZ</td>\n",
       "      <td>Arizona</td>\n",
       "      <td>state</td>\n",
       "      <td>1463.17</td>\n",
       "      <td>71.3</td>\n",
       "      <td>17.9</td>\n",
       "      <td>0.0</td>\n",
       "      <td>105.48</td>\n",
       "      <td>19.3</td>\n",
       "      <td>41.0</td>\n",
       "      <td>60.27</td>\n",
       "      <td>147.5</td>\n",
       "      <td>239.4</td>\n",
       "      <td>386.91</td>\n",
       "      <td>7.3</td>\n",
       "      <td>48.7</td>\n",
       "      <td>423.95</td>\n",
       "      <td>Arizona&lt;br&gt;Beef 71.3 Dairy 105.48&lt;br&gt;Fruits 60...</td>\n",
       "    </tr>\n",
       "    <tr>\n",
       "      <th>3</th>\n",
       "      <td>AR</td>\n",
       "      <td>Arkansas</td>\n",
       "      <td>state</td>\n",
       "      <td>3586.02</td>\n",
       "      <td>53.2</td>\n",
       "      <td>29.4</td>\n",
       "      <td>562.9</td>\n",
       "      <td>3.53</td>\n",
       "      <td>2.2</td>\n",
       "      <td>4.7</td>\n",
       "      <td>6.88</td>\n",
       "      <td>4.4</td>\n",
       "      <td>7.1</td>\n",
       "      <td>11.45</td>\n",
       "      <td>69.5</td>\n",
       "      <td>114.5</td>\n",
       "      <td>665.44</td>\n",
       "      <td>Arkansas&lt;br&gt;Beef 53.2 Dairy 3.53&lt;br&gt;Fruits 6.8...</td>\n",
       "    </tr>\n",
       "    <tr>\n",
       "      <th>4</th>\n",
       "      <td>CA</td>\n",
       "      <td>California</td>\n",
       "      <td>state</td>\n",
       "      <td>16472.88</td>\n",
       "      <td>228.7</td>\n",
       "      <td>11.1</td>\n",
       "      <td>225.4</td>\n",
       "      <td>929.95</td>\n",
       "      <td>2791.8</td>\n",
       "      <td>5944.6</td>\n",
       "      <td>8736.40</td>\n",
       "      <td>803.2</td>\n",
       "      <td>1303.5</td>\n",
       "      <td>2106.79</td>\n",
       "      <td>34.6</td>\n",
       "      <td>249.3</td>\n",
       "      <td>1064.95</td>\n",
       "      <td>California&lt;br&gt;Beef 228.7 Dairy 929.95&lt;br&gt;Frui...</td>\n",
       "    </tr>\n",
       "  </tbody>\n",
       "</table>\n",
       "</div>"
      ],
      "text/plain": [
       "  code        state  ...   cotton                                               text\n",
       "0   AL      Alabama  ...   317.61  Alabama<br>Beef 34.4 Dairy 4.06<br>Fruits 25.1...\n",
       "1   AK       Alaska  ...     0.00  Alaska<br>Beef 0.2 Dairy 0.19<br>Fruits 0.0 Ve...\n",
       "2   AZ      Arizona  ...   423.95  Arizona<br>Beef 71.3 Dairy 105.48<br>Fruits 60...\n",
       "3   AR     Arkansas  ...   665.44  Arkansas<br>Beef 53.2 Dairy 3.53<br>Fruits 6.8...\n",
       "4   CA   California  ...  1064.95   California<br>Beef 228.7 Dairy 929.95<br>Frui...\n",
       "\n",
       "[5 rows x 18 columns]"
      ]
     },
     "execution_count": 12,
     "metadata": {},
     "output_type": "execute_result"
    }
   ],
   "source": [
    "df.head()"
   ]
  },
  {
   "cell_type": "code",
   "execution_count": 15,
   "metadata": {},
   "outputs": [],
   "source": [
    "data = dict(type='choropleth',\n",
    "           colorscale='YIOrRD',\n",
    "           locations=df['code'],\n",
    "           z = df['total exports'],\n",
    "           locationmode='USA-states',\n",
    "           text=df['text'],\n",
    "           marker=dict(line=dict(color='rgb(255,255,255)',width=2)),\n",
    "           colorbar={'title':'MIlions USd'})"
   ]
  },
  {
   "cell_type": "code",
   "execution_count": 17,
   "metadata": {},
   "outputs": [
    {
     "data": {
      "text/plain": [
       "{'type': 'choropleth', 'colorscale': 'YIOrRD', 'locations': 0     AL\n",
       " 1     AK\n",
       " 2     AZ\n",
       " 3     AR\n",
       " 4     CA\n",
       " 5     CO\n",
       " 6     CT\n",
       " 7     DE\n",
       " 8     FL\n",
       " 9     GA\n",
       " 10    HI\n",
       " 11    ID\n",
       " 12    IL\n",
       " 13    IN\n",
       " 14    IA\n",
       " 15    KS\n",
       " 16    KY\n",
       " 17    LA\n",
       " 18    ME\n",
       " 19    MD\n",
       " 20    MA\n",
       " 21    MI\n",
       " 22    MN\n",
       " 23    MS\n",
       " 24    MO\n",
       " 25    MT\n",
       " 26    NE\n",
       " 27    NV\n",
       " 28    NH\n",
       " 29    NJ\n",
       " 30    NM\n",
       " 31    NY\n",
       " 32    NC\n",
       " 33    ND\n",
       " 34    OH\n",
       " 35    OK\n",
       " 36    OR\n",
       " 37    PA\n",
       " 38    RI\n",
       " 39    SC\n",
       " 40    SD\n",
       " 41    TN\n",
       " 42    TX\n",
       " 43    UT\n",
       " 44    VT\n",
       " 45    VA\n",
       " 46    WA\n",
       " 47    WV\n",
       " 48    WI\n",
       " 49    WY\n",
       " Name: code, dtype: object, 'z': 0      1390.63\n",
       " 1        13.31\n",
       " 2      1463.17\n",
       " 3      3586.02\n",
       " 4     16472.88\n",
       " 5      1851.33\n",
       " 6       259.62\n",
       " 7       282.19\n",
       " 8      3764.09\n",
       " 9      2860.84\n",
       " 10      401.84\n",
       " 11     2078.89\n",
       " 12     8709.48\n",
       " 13     5050.23\n",
       " 14    11273.76\n",
       " 15     4589.01\n",
       " 16     1889.15\n",
       " 17     1914.23\n",
       " 18      278.37\n",
       " 19      692.75\n",
       " 20      248.65\n",
       " 21     3164.16\n",
       " 22     7192.33\n",
       " 23     2170.80\n",
       " 24     3933.42\n",
       " 25     1718.00\n",
       " 26     7114.13\n",
       " 27      139.89\n",
       " 28       73.06\n",
       " 29      500.40\n",
       " 30      751.58\n",
       " 31     1488.90\n",
       " 32     3806.05\n",
       " 33     3761.96\n",
       " 34     3979.79\n",
       " 35     1646.41\n",
       " 36     1794.57\n",
       " 37     1969.87\n",
       " 38       31.59\n",
       " 39      929.93\n",
       " 40     3770.19\n",
       " 41     1535.13\n",
       " 42     6648.22\n",
       " 43      453.39\n",
       " 44      180.14\n",
       " 45     1146.48\n",
       " 46     3894.81\n",
       " 47      138.89\n",
       " 48     3090.23\n",
       " 49      349.69\n",
       " Name: total exports, dtype: float64, 'locationmode': 'USA-states', 'text': 0     Alabama<br>Beef 34.4 Dairy 4.06<br>Fruits 25.1...\n",
       " 1     Alaska<br>Beef 0.2 Dairy 0.19<br>Fruits 0.0 Ve...\n",
       " 2     Arizona<br>Beef 71.3 Dairy 105.48<br>Fruits 60...\n",
       " 3     Arkansas<br>Beef 53.2 Dairy 3.53<br>Fruits 6.8...\n",
       " 4      California<br>Beef 228.7 Dairy 929.95<br>Frui...\n",
       " 5     Colorado<br>Beef 261.4 Dairy 71.94<br>Fruits 1...\n",
       " 6     Connecticut<br>Beef 1.1 Dairy 9.49<br>Fruits 1...\n",
       " 7     Delaware<br>Beef 0.4 Dairy 2.3<br>Fruits 1.53 ...\n",
       " 8     Florida<br>Beef 42.6 Dairy 66.31<br>Fruits 137...\n",
       " 9     Georgia<br>Beef 31.0 Dairy 38.38<br>Fruits 233...\n",
       " 10    Hawaii<br>Beef 4.0 Dairy 1.16<br>Fruits 55.51 ...\n",
       " 11    Idaho<br>Beef 119.8 Dairy 294.6<br>Fruits 21.6...\n",
       " 12    Illinois<br>Beef 53.7 Dairy 45.82<br>Fruits 12...\n",
       " 13    Indiana<br>Beef 21.9 Dairy 89.7<br>Fruits 12.9...\n",
       " 14    Iowa<br>Beef 289.8 Dairy 107.0<br>Fruits 3.24 ...\n",
       " 15    Kansas<br>Beef 659.3 Dairy 65.45<br>Fruits 3.1...\n",
       " 16    Kentucky<br>Beef 54.8 Dairy 28.27<br>Fruits 6....\n",
       " 17    Louisiana<br>Beef 19.8 Dairy 6.02<br>Fruits 17...\n",
       " 18    Maine<br>Beef 1.4 Dairy 16.18<br>Fruits 52.01 ...\n",
       " 19    Maryland<br>Beef 5.6 Dairy 24.81<br>Fruits 12....\n",
       " 20    Massachusetts<br>Beef 0.6 Dairy 5.81<br>Fruits...\n",
       " 21    Michigan<br>Beef 37.7 Dairy 214.82<br>Fruits 2...\n",
       " 22    Minnesota<br>Beef 112.3 Dairy 218.05<br>Fruits...\n",
       " 23    Mississippi<br>Beef 12.8 Dairy 5.45<br>Fruits ...\n",
       " 24    Missouri<br>Beef 137.2 Dairy 34.26<br>Fruits 1...\n",
       " 25    Montana<br>Beef 105.0 Dairy 6.82<br>Fruits 3.3...\n",
       " 26    Nebraska<br>Beef 762.2 Dairy 30.07<br>Fruits 2...\n",
       " 27    Nevada<br>Beef 21.8 Dairy 16.57<br>Fruits 1.19...\n",
       " 28    New Hampshire<br>Beef 0.6 Dairy 7.46<br>Fruits...\n",
       " 29    New Jersey<br>Beef 0.8 Dairy 3.37<br>Fruits 10...\n",
       " 30    New Mexico<br>Beef 117.2 Dairy 191.01<br>Fruit...\n",
       " 31    New York<br>Beef 22.2 Dairy 331.8<br>Fruits 20...\n",
       " 32    North Carolina<br>Beef 24.8 Dairy 24.9<br>Frui...\n",
       " 33    North Dakota<br>Beef 78.5 Dairy 8.14<br>Fruits...\n",
       " 34    Ohio<br>Beef 36.2 Dairy 134.57<br>Fruits 27.21...\n",
       " 35    Oklahoma<br>Beef 337.6 Dairy 24.35<br>Fruits 9...\n",
       " 36    Oregon<br>Beef 58.8 Dairy 63.66<br>Fruits 315....\n",
       " 37    Pennsylvania<br>Beef 50.9 Dairy 280.87<br>Frui...\n",
       " 38    Rhode Island<br>Beef 0.1 Dairy 0.52<br>Fruits ...\n",
       " 39    South Carolina<br>Beef 15.2 Dairy 7.62<br>Frui...\n",
       " 40    South Dakota<br>Beef 193.5 Dairy 46.77<br>Frui...\n",
       " 41    Tennessee<br>Beef 51.1 Dairy 21.18<br>Fruits 6...\n",
       " 42    Texas<br>Beef 961.0 Dairy 240.55<br>Fruits 99....\n",
       " 43    Utah<br>Beef 27.9 Dairy 48.6<br>Fruits 12.34 V...\n",
       " 44    Vermont<br>Beef 6.2 Dairy 65.98<br>Fruits 8.01...\n",
       " 45    Virginia<br>Beef 39.5 Dairy 47.85<br>Fruits 36...\n",
       " 46    Washington<br>Beef 59.2 Dairy 154.18<br>Fruits...\n",
       " 47    West Virginia<br>Beef 12.0 Dairy 3.9<br>Fruits...\n",
       " 48    Wisconsin<br>Beef 107.3 Dairy 633.6<br>Fruits ...\n",
       " 49    Wyoming<br>Beef 75.1 Dairy 2.89<br>Fruits 0.17...\n",
       " Name: text, dtype: object, 'marker': {'line': {'color': 'rgb(255,255,255)',\n",
       "   'width': 2}}, 'colorbar': {'title': 'MIlions USd'}}"
      ]
     },
     "execution_count": 17,
     "metadata": {},
     "output_type": "execute_result"
    }
   ],
   "source": [
    "data"
   ]
  },
  {
   "cell_type": "code",
   "execution_count": null,
   "metadata": {},
   "outputs": [],
   "source": []
  },
  {
   "cell_type": "code",
   "execution_count": null,
   "metadata": {},
   "outputs": [],
   "source": []
  },
  {
   "cell_type": "code",
   "execution_count": 14,
   "metadata": {},
   "outputs": [
    {
     "ename": "ValueError",
     "evalue": "\n    Invalid value of type 'builtins.str' received for the 'colorscale' property of choropleth\n        Received value: 'YIOrRD'\n\n    The 'colorscale' property is a colorscale and may be\n    specified as:\n      - A list of 2-element lists where the first element is the\n        normalized color level value (starting at 0 and ending at 1), \n        and the second item is a valid color string.\n        (e.g. [[0, 'green'], [0.5, 'red'], [1.0, 'rgb(0, 0, 255)']])\n      - One of the following named colorscales:\n            ['Greys', 'YlGnBu', 'Greens', 'YlOrRd', 'Bluered', 'RdBu',\n            'Reds', 'Blues', 'Picnic', 'Rainbow', 'Portland', 'Jet',\n            'Hot', 'Blackbody', 'Earth', 'Electric', 'Viridis', 'Cividis']\n        ",
     "output_type": "error",
     "traceback": [
      "\u001b[0;31m---------------------------------------------------------------------------\u001b[0m",
      "\u001b[0;31mValueError\u001b[0m                                Traceback (most recent call last)",
      "\u001b[0;32m<ipython-input-14-2dc0f5fdd39c>\u001b[0m in \u001b[0;36m<module>\u001b[0;34m\u001b[0m\n\u001b[0;32m----> 1\u001b[0;31m \u001b[0mchoromap\u001b[0m \u001b[0;34m=\u001b[0m \u001b[0mgo\u001b[0m\u001b[0;34m.\u001b[0m\u001b[0mFigure\u001b[0m\u001b[0;34m(\u001b[0m\u001b[0mdata\u001b[0m\u001b[0;34m=\u001b[0m\u001b[0;34m[\u001b[0m\u001b[0mdata\u001b[0m\u001b[0;34m]\u001b[0m\u001b[0;34m,\u001b[0m\u001b[0mlayout\u001b[0m\u001b[0;34m=\u001b[0m\u001b[0mlayout\u001b[0m\u001b[0;34m)\u001b[0m\u001b[0;34m\u001b[0m\u001b[0;34m\u001b[0m\u001b[0m\n\u001b[0m",
      "\u001b[0;32m~/anaconda3/lib/python3.7/site-packages/plotly/graph_objs/_figure.py\u001b[0m in \u001b[0;36m__init__\u001b[0;34m(self, data, layout, frames, skip_invalid, **kwargs)\u001b[0m\n\u001b[1;32m    550\u001b[0m         \"\"\"\n\u001b[1;32m    551\u001b[0m         super(Figure,\n\u001b[0;32m--> 552\u001b[0;31m               self).__init__(data, layout, frames, skip_invalid, **kwargs)\n\u001b[0m\u001b[1;32m    553\u001b[0m \u001b[0;34m\u001b[0m\u001b[0m\n\u001b[1;32m    554\u001b[0m     def add_area(\n",
      "\u001b[0;32m~/anaconda3/lib/python3.7/site-packages/plotly/basedatatypes.py\u001b[0m in \u001b[0;36m__init__\u001b[0;34m(self, data, layout_plotly, frames, skip_invalid, **kwargs)\u001b[0m\n\u001b[1;32m    154\u001b[0m         \u001b[0;31m# ### Import traces ###\u001b[0m\u001b[0;34m\u001b[0m\u001b[0;34m\u001b[0m\u001b[0;34m\u001b[0m\u001b[0m\n\u001b[1;32m    155\u001b[0m         data = self._data_validator.validate_coerce(data,\n\u001b[0;32m--> 156\u001b[0;31m                                                     skip_invalid=skip_invalid)\n\u001b[0m\u001b[1;32m    157\u001b[0m \u001b[0;34m\u001b[0m\u001b[0m\n\u001b[1;32m    158\u001b[0m         \u001b[0;31m# ### Save tuple of trace objects ###\u001b[0m\u001b[0;34m\u001b[0m\u001b[0;34m\u001b[0m\u001b[0;34m\u001b[0m\u001b[0m\n",
      "\u001b[0;32m~/anaconda3/lib/python3.7/site-packages/_plotly_utils/basevalidators.py\u001b[0m in \u001b[0;36mvalidate_coerce\u001b[0;34m(self, v, skip_invalid)\u001b[0m\n\u001b[1;32m   2333\u001b[0m                     \u001b[0;32melse\u001b[0m\u001b[0;34m:\u001b[0m\u001b[0;34m\u001b[0m\u001b[0;34m\u001b[0m\u001b[0m\n\u001b[1;32m   2334\u001b[0m                         trace = self.class_map[trace_type](\n\u001b[0;32m-> 2335\u001b[0;31m                             skip_invalid=skip_invalid, **v_copy)\n\u001b[0m\u001b[1;32m   2336\u001b[0m                         \u001b[0mres\u001b[0m\u001b[0;34m.\u001b[0m\u001b[0mappend\u001b[0m\u001b[0;34m(\u001b[0m\u001b[0mtrace\u001b[0m\u001b[0;34m)\u001b[0m\u001b[0;34m\u001b[0m\u001b[0;34m\u001b[0m\u001b[0m\n\u001b[1;32m   2337\u001b[0m                 \u001b[0;32melse\u001b[0m\u001b[0;34m:\u001b[0m\u001b[0;34m\u001b[0m\u001b[0;34m\u001b[0m\u001b[0m\n",
      "\u001b[0;32m~/anaconda3/lib/python3.7/site-packages/plotly/graph_objs/__init__.py\u001b[0m in \u001b[0;36m__init__\u001b[0;34m(self, arg, autocolorscale, coloraxis, colorbar, colorscale, customdata, customdatasrc, geo, hoverinfo, hoverinfosrc, hoverlabel, hovertemplate, hovertemplatesrc, hovertext, hovertextsrc, ids, idssrc, locationmode, locations, locationssrc, marker, meta, metasrc, name, reversescale, selected, selectedpoints, showscale, stream, text, textsrc, uid, uirevision, unselected, visible, z, zauto, zmax, zmid, zmin, zsrc, **kwargs)\u001b[0m\n\u001b[1;32m  76707\u001b[0m         \u001b[0mself\u001b[0m\u001b[0;34m[\u001b[0m\u001b[0;34m'colorbar'\u001b[0m\u001b[0;34m]\u001b[0m \u001b[0;34m=\u001b[0m \u001b[0mcolorbar\u001b[0m \u001b[0;32mif\u001b[0m \u001b[0mcolorbar\u001b[0m \u001b[0;32mis\u001b[0m \u001b[0;32mnot\u001b[0m \u001b[0;32mNone\u001b[0m \u001b[0;32melse\u001b[0m \u001b[0m_v\u001b[0m\u001b[0;34m\u001b[0m\u001b[0;34m\u001b[0m\u001b[0m\n\u001b[1;32m  76708\u001b[0m         \u001b[0m_v\u001b[0m \u001b[0;34m=\u001b[0m \u001b[0marg\u001b[0m\u001b[0;34m.\u001b[0m\u001b[0mpop\u001b[0m\u001b[0;34m(\u001b[0m\u001b[0;34m'colorscale'\u001b[0m\u001b[0;34m,\u001b[0m \u001b[0;32mNone\u001b[0m\u001b[0;34m)\u001b[0m\u001b[0;34m\u001b[0m\u001b[0;34m\u001b[0m\u001b[0m\n\u001b[0;32m> 76709\u001b[0;31m         \u001b[0mself\u001b[0m\u001b[0;34m[\u001b[0m\u001b[0;34m'colorscale'\u001b[0m\u001b[0;34m]\u001b[0m \u001b[0;34m=\u001b[0m \u001b[0mcolorscale\u001b[0m \u001b[0;32mif\u001b[0m \u001b[0mcolorscale\u001b[0m \u001b[0;32mis\u001b[0m \u001b[0;32mnot\u001b[0m \u001b[0;32mNone\u001b[0m \u001b[0;32melse\u001b[0m \u001b[0m_v\u001b[0m\u001b[0;34m\u001b[0m\u001b[0;34m\u001b[0m\u001b[0m\n\u001b[0m\u001b[1;32m  76710\u001b[0m         \u001b[0m_v\u001b[0m \u001b[0;34m=\u001b[0m \u001b[0marg\u001b[0m\u001b[0;34m.\u001b[0m\u001b[0mpop\u001b[0m\u001b[0;34m(\u001b[0m\u001b[0;34m'customdata'\u001b[0m\u001b[0;34m,\u001b[0m \u001b[0;32mNone\u001b[0m\u001b[0;34m)\u001b[0m\u001b[0;34m\u001b[0m\u001b[0;34m\u001b[0m\u001b[0m\n\u001b[1;32m  76711\u001b[0m         \u001b[0mself\u001b[0m\u001b[0;34m[\u001b[0m\u001b[0;34m'customdata'\u001b[0m\u001b[0;34m]\u001b[0m \u001b[0;34m=\u001b[0m \u001b[0mcustomdata\u001b[0m \u001b[0;32mif\u001b[0m \u001b[0mcustomdata\u001b[0m \u001b[0;32mis\u001b[0m \u001b[0;32mnot\u001b[0m \u001b[0;32mNone\u001b[0m \u001b[0;32melse\u001b[0m \u001b[0m_v\u001b[0m\u001b[0;34m\u001b[0m\u001b[0;34m\u001b[0m\u001b[0m\n",
      "\u001b[0;32m~/anaconda3/lib/python3.7/site-packages/plotly/basedatatypes.py\u001b[0m in \u001b[0;36m__setitem__\u001b[0;34m(self, prop, value)\u001b[0m\n\u001b[1;32m   3315\u001b[0m             \u001b[0;31m# ### Handle simple property ###\u001b[0m\u001b[0;34m\u001b[0m\u001b[0;34m\u001b[0m\u001b[0;34m\u001b[0m\u001b[0m\n\u001b[1;32m   3316\u001b[0m             \u001b[0;32melse\u001b[0m\u001b[0;34m:\u001b[0m\u001b[0;34m\u001b[0m\u001b[0;34m\u001b[0m\u001b[0m\n\u001b[0;32m-> 3317\u001b[0;31m                 \u001b[0mself\u001b[0m\u001b[0;34m.\u001b[0m\u001b[0m_set_prop\u001b[0m\u001b[0;34m(\u001b[0m\u001b[0mprop\u001b[0m\u001b[0;34m,\u001b[0m \u001b[0mvalue\u001b[0m\u001b[0;34m)\u001b[0m\u001b[0;34m\u001b[0m\u001b[0;34m\u001b[0m\u001b[0m\n\u001b[0m\u001b[1;32m   3318\u001b[0m \u001b[0;34m\u001b[0m\u001b[0m\n\u001b[1;32m   3319\u001b[0m         \u001b[0;31m# Handle non-scalar case\u001b[0m\u001b[0;34m\u001b[0m\u001b[0;34m\u001b[0m\u001b[0;34m\u001b[0m\u001b[0m\n",
      "\u001b[0;32m~/anaconda3/lib/python3.7/site-packages/plotly/basedatatypes.py\u001b[0m in \u001b[0;36m_set_prop\u001b[0;34m(self, prop, val)\u001b[0m\n\u001b[1;32m   3560\u001b[0m                 \u001b[0;32mreturn\u001b[0m\u001b[0;34m\u001b[0m\u001b[0;34m\u001b[0m\u001b[0m\n\u001b[1;32m   3561\u001b[0m             \u001b[0;32melse\u001b[0m\u001b[0;34m:\u001b[0m\u001b[0;34m\u001b[0m\u001b[0;34m\u001b[0m\u001b[0m\n\u001b[0;32m-> 3562\u001b[0;31m                 \u001b[0;32mraise\u001b[0m \u001b[0merr\u001b[0m\u001b[0;34m\u001b[0m\u001b[0;34m\u001b[0m\u001b[0m\n\u001b[0m\u001b[1;32m   3563\u001b[0m \u001b[0;34m\u001b[0m\u001b[0m\n\u001b[1;32m   3564\u001b[0m         \u001b[0;31m# val is None\u001b[0m\u001b[0;34m\u001b[0m\u001b[0;34m\u001b[0m\u001b[0;34m\u001b[0m\u001b[0m\n",
      "\u001b[0;32m~/anaconda3/lib/python3.7/site-packages/plotly/basedatatypes.py\u001b[0m in \u001b[0;36m_set_prop\u001b[0;34m(self, prop, val)\u001b[0m\n\u001b[1;32m   3555\u001b[0m         \u001b[0mvalidator\u001b[0m \u001b[0;34m=\u001b[0m \u001b[0mself\u001b[0m\u001b[0;34m.\u001b[0m\u001b[0m_validators\u001b[0m\u001b[0;34m.\u001b[0m\u001b[0mget\u001b[0m\u001b[0;34m(\u001b[0m\u001b[0mprop\u001b[0m\u001b[0;34m)\u001b[0m\u001b[0;34m\u001b[0m\u001b[0;34m\u001b[0m\u001b[0m\n\u001b[1;32m   3556\u001b[0m         \u001b[0;32mtry\u001b[0m\u001b[0;34m:\u001b[0m\u001b[0;34m\u001b[0m\u001b[0;34m\u001b[0m\u001b[0m\n\u001b[0;32m-> 3557\u001b[0;31m             \u001b[0mval\u001b[0m \u001b[0;34m=\u001b[0m \u001b[0mvalidator\u001b[0m\u001b[0;34m.\u001b[0m\u001b[0mvalidate_coerce\u001b[0m\u001b[0;34m(\u001b[0m\u001b[0mval\u001b[0m\u001b[0;34m)\u001b[0m\u001b[0;34m\u001b[0m\u001b[0;34m\u001b[0m\u001b[0m\n\u001b[0m\u001b[1;32m   3558\u001b[0m         \u001b[0;32mexcept\u001b[0m \u001b[0mValueError\u001b[0m \u001b[0;32mas\u001b[0m \u001b[0merr\u001b[0m\u001b[0;34m:\u001b[0m\u001b[0;34m\u001b[0m\u001b[0;34m\u001b[0m\u001b[0m\n\u001b[1;32m   3559\u001b[0m             \u001b[0;32mif\u001b[0m \u001b[0mself\u001b[0m\u001b[0;34m.\u001b[0m\u001b[0m_skip_invalid\u001b[0m\u001b[0;34m:\u001b[0m\u001b[0;34m\u001b[0m\u001b[0;34m\u001b[0m\u001b[0m\n",
      "\u001b[0;32m~/anaconda3/lib/python3.7/site-packages/_plotly_utils/basevalidators.py\u001b[0m in \u001b[0;36mvalidate_coerce\u001b[0;34m(self, v)\u001b[0m\n\u001b[1;32m   1369\u001b[0m \u001b[0;34m\u001b[0m\u001b[0m\n\u001b[1;32m   1370\u001b[0m         \u001b[0;32mif\u001b[0m \u001b[0;32mnot\u001b[0m \u001b[0mv_valid\u001b[0m\u001b[0;34m:\u001b[0m\u001b[0;34m\u001b[0m\u001b[0;34m\u001b[0m\u001b[0m\n\u001b[0;32m-> 1371\u001b[0;31m             \u001b[0mself\u001b[0m\u001b[0;34m.\u001b[0m\u001b[0mraise_invalid_val\u001b[0m\u001b[0;34m(\u001b[0m\u001b[0mv\u001b[0m\u001b[0;34m)\u001b[0m\u001b[0;34m\u001b[0m\u001b[0;34m\u001b[0m\u001b[0m\n\u001b[0m\u001b[1;32m   1372\u001b[0m \u001b[0;34m\u001b[0m\u001b[0m\n\u001b[1;32m   1373\u001b[0m         \u001b[0;32mreturn\u001b[0m \u001b[0mv\u001b[0m\u001b[0;34m\u001b[0m\u001b[0;34m\u001b[0m\u001b[0m\n",
      "\u001b[0;32m~/anaconda3/lib/python3.7/site-packages/_plotly_utils/basevalidators.py\u001b[0m in \u001b[0;36mraise_invalid_val\u001b[0;34m(self, v, inds)\u001b[0m\n\u001b[1;32m    275\u001b[0m             \u001b[0mtyp\u001b[0m\u001b[0;34m=\u001b[0m\u001b[0mtype_str\u001b[0m\u001b[0;34m(\u001b[0m\u001b[0mv\u001b[0m\u001b[0;34m)\u001b[0m\u001b[0;34m,\u001b[0m\u001b[0;34m\u001b[0m\u001b[0;34m\u001b[0m\u001b[0m\n\u001b[1;32m    276\u001b[0m             \u001b[0mv\u001b[0m\u001b[0;34m=\u001b[0m\u001b[0mrepr\u001b[0m\u001b[0;34m(\u001b[0m\u001b[0mv\u001b[0m\u001b[0;34m)\u001b[0m\u001b[0;34m,\u001b[0m\u001b[0;34m\u001b[0m\u001b[0;34m\u001b[0m\u001b[0m\n\u001b[0;32m--> 277\u001b[0;31m             valid_clr_desc=self.description()))\n\u001b[0m\u001b[1;32m    278\u001b[0m \u001b[0;34m\u001b[0m\u001b[0m\n\u001b[1;32m    279\u001b[0m     \u001b[0;32mdef\u001b[0m \u001b[0mraise_invalid_elements\u001b[0m\u001b[0;34m(\u001b[0m\u001b[0mself\u001b[0m\u001b[0;34m,\u001b[0m \u001b[0minvalid_els\u001b[0m\u001b[0;34m)\u001b[0m\u001b[0;34m:\u001b[0m\u001b[0;34m\u001b[0m\u001b[0;34m\u001b[0m\u001b[0m\n",
      "\u001b[0;31mValueError\u001b[0m: \n    Invalid value of type 'builtins.str' received for the 'colorscale' property of choropleth\n        Received value: 'YIOrRD'\n\n    The 'colorscale' property is a colorscale and may be\n    specified as:\n      - A list of 2-element lists where the first element is the\n        normalized color level value (starting at 0 and ending at 1), \n        and the second item is a valid color string.\n        (e.g. [[0, 'green'], [0.5, 'red'], [1.0, 'rgb(0, 0, 255)']])\n      - One of the following named colorscales:\n            ['Greys', 'YlGnBu', 'Greens', 'YlOrRd', 'Bluered', 'RdBu',\n            'Reds', 'Blues', 'Picnic', 'Rainbow', 'Portland', 'Jet',\n            'Hot', 'Blackbody', 'Earth', 'Electric', 'Viridis', 'Cividis']\n        "
     ]
    }
   ],
   "source": [
    "choromap = go.Figure(data=[data],layout=layout)"
   ]
  },
  {
   "cell_type": "code",
   "execution_count": null,
   "metadata": {},
   "outputs": [],
   "source": []
  },
  {
   "cell_type": "code",
   "execution_count": null,
   "metadata": {},
   "outputs": [],
   "source": []
  },
  {
   "cell_type": "code",
   "execution_count": null,
   "metadata": {},
   "outputs": [],
   "source": []
  }
 ],
 "metadata": {
  "kernelspec": {
   "display_name": "Python 3",
   "language": "python",
   "name": "python3"
  },
  "language_info": {
   "codemirror_mode": {
    "name": "ipython",
    "version": 3
   },
   "file_extension": ".py",
   "mimetype": "text/x-python",
   "name": "python",
   "nbconvert_exporter": "python",
   "pygments_lexer": "ipython3",
   "version": "3.7.3"
  }
 },
 "nbformat": 4,
 "nbformat_minor": 2
}
